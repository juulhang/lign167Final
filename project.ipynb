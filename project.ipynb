{
 "cells": [
  {
   "cell_type": "code",
   "execution_count": 7,
   "metadata": {},
   "outputs": [],
   "source": [
    "from TermNode import *\n",
    "\n",
    "def parse_file(xml: list) -> dict:\n",
    "    '''\n",
    "    parse xml files in dataset to find names and types of drugs\n",
    "    does not account for links, but isolates the named entities\n",
    "\n",
    "    @params:\n",
    "        xml: the current file being passed in\n",
    "\n",
    "    @returns:\n",
    "        a dictionary of nodes in format {node name : node}'''\n",
    "\n",
    "    nodes = dict()\n",
    "\n",
    "    for line in xml:\n",
    "        if (\"type\" and \"text\" in line) and (\"sentence\" not in line):\n",
    "            \n",
    "            curr_quote = line.find(\"\\\"\") + 1\n",
    "            next_quote = line.find(\"\\\"\", curr_quote)\n",
    "\n",
    "            kind = line[curr_quote:next_quote]\n",
    "\n",
    "            curr_quote = line.find(\"\\\"\", next_quote + 1) + 1\n",
    "            next_quote = line.find(\"\\\"\", curr_quote)\n",
    "\n",
    "            name = line[curr_quote:next_quote].lower()\n",
    "\n",
    "            if name not in nodes:\n",
    "                nodes[name] = TermNode(name = name, kind = kind)\n",
    "\n",
    "    return nodes"
   ]
  },
  {
   "cell_type": "code",
   "execution_count": null,
   "metadata": {},
   "outputs": [],
   "source": []
  }
 ],
 "metadata": {
  "interpreter": {
   "hash": "8759d0d1b181377b36ddbcddb05ae3ff3fcb364b8b62660c961beb4de3e6b2f0"
  },
  "kernelspec": {
   "display_name": "Python 3.7.11 ('lign167')",
   "language": "python",
   "name": "python3"
  },
  "language_info": {
   "codemirror_mode": {
    "name": "ipython",
    "version": 3
   },
   "file_extension": ".py",
   "mimetype": "text/x-python",
   "name": "python",
   "nbconvert_exporter": "python",
   "pygments_lexer": "ipython3",
   "version": "3.7.11"
  },
  "orig_nbformat": 4
 },
 "nbformat": 4,
 "nbformat_minor": 2
}
